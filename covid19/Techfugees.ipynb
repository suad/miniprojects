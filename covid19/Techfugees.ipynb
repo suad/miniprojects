{
 "cells": [
  {
   "cell_type": "code",
   "execution_count": null,
   "metadata": {},
   "outputs": [],
   "source": [
    "## How is covid19 affecting refugees"
   ]
  },
  {
   "cell_type": "code",
   "execution_count": 36,
   "metadata": {},
   "outputs": [],
   "source": [
    "import seaborn as sns\n",
    "import pandas as pd\n",
    "import matplotlib.pyplot as plt\n",
    "import matplotlib.dates as mdates\n",
    "from matplotlib import rcParams\n",
    "from collections import Counter \n",
    "\n",
    "from datetime import date\n",
    "\n",
    "\n",
    "plt.rcParams['font.family'] = 'serif'\n",
    "plt.rcParams['font.serif'] = ['Times New Roman'] + plt.rcParams['font.serif']\n",
    "plt.rcParams['font.size'] = '14'"
   ]
  },
  {
   "cell_type": "code",
   "execution_count": null,
   "metadata": {},
   "outputs": [],
   "source": [
    "Bangladesh \n",
    "Brazil\n",
    "Burkina Faso\n",
    "Central African Republic \n",
    "Colombia\n",
    "Venezuela\n",
    "Democratic Republic of Congo\n",
    "France\n",
    "Germany\n",
    "Greece\n",
    "Iran\n",
    "Iraq\n",
    "Italy\n",
    "Jordan \n",
    "Kenya\n",
    "Lebanon\n",
    "Libya\n",
    "Malaysia\n",
    "Morocco\n",
    "Pakistan\n",
    "Palestine\n",
    "Philippines\n",
    "Portugal\n",
    "Spain\n",
    "Syria\n",
    "Tanzania\n",
    "Uganda\n",
    "Ukraine\n",
    "US\n",
    "Worldwide\n",
    "Yemen\n",
    "turkey\n",
    "Nigeria"
   ]
  },
  {
   "cell_type": "code",
   "execution_count": 193,
   "metadata": {},
   "outputs": [],
   "source": [
    "countries=['Bangladesh', 'Brazil','Burkina_Faso','Central_African_Republic','Colombia','Democratic_Republic_of_the_Congo' ,'France','Germany',\\\n",
    "'Greece','Iran','Iraq','Italy','Jordan' ,'Kenya','Lebanon','Libya','Malaysia','Morocco','Pakistan','Palestine',\\\n",
    "           'Philippines','Portugal','Spain','South_Sudan','Syria','Turkey','United_Republic_of_Tanzania','Uganda','Ukraine',\\\n",
    "           'United_States_of_America','Venezuela','Yemen','Turkey','Nigeria']"
   ]
  },
  {
   "cell_type": "code",
   "execution_count": 202,
   "metadata": {
    "scrolled": false
   },
   "outputs": [
    {
     "data": {
      "text/html": [
       "<div>\n",
       "<style scoped>\n",
       "    .dataframe tbody tr th:only-of-type {\n",
       "        vertical-align: middle;\n",
       "    }\n",
       "\n",
       "    .dataframe tbody tr th {\n",
       "        vertical-align: top;\n",
       "    }\n",
       "\n",
       "    .dataframe thead th {\n",
       "        text-align: right;\n",
       "    }\n",
       "</style>\n",
       "<table border=\"1\" class=\"dataframe\">\n",
       "  <thead>\n",
       "    <tr style=\"text-align: right;\">\n",
       "      <th></th>\n",
       "      <th>dateRep</th>\n",
       "      <th>day</th>\n",
       "      <th>month</th>\n",
       "      <th>year</th>\n",
       "      <th>cases</th>\n",
       "      <th>deaths</th>\n",
       "      <th>countriesAndTerritories</th>\n",
       "      <th>geoId</th>\n",
       "      <th>countryterritoryCode</th>\n",
       "      <th>popData2018</th>\n",
       "    </tr>\n",
       "  </thead>\n",
       "  <tbody>\n",
       "    <tr>\n",
       "      <th>0</th>\n",
       "      <td>13/04/2020</td>\n",
       "      <td>13</td>\n",
       "      <td>4</td>\n",
       "      <td>2020</td>\n",
       "      <td>52</td>\n",
       "      <td>0</td>\n",
       "      <td>Afghanistan</td>\n",
       "      <td>AF</td>\n",
       "      <td>AFG</td>\n",
       "      <td>37172386.0</td>\n",
       "    </tr>\n",
       "    <tr>\n",
       "      <th>1</th>\n",
       "      <td>12/04/2020</td>\n",
       "      <td>12</td>\n",
       "      <td>4</td>\n",
       "      <td>2020</td>\n",
       "      <td>34</td>\n",
       "      <td>3</td>\n",
       "      <td>Afghanistan</td>\n",
       "      <td>AF</td>\n",
       "      <td>AFG</td>\n",
       "      <td>37172386.0</td>\n",
       "    </tr>\n",
       "    <tr>\n",
       "      <th>2</th>\n",
       "      <td>11/04/2020</td>\n",
       "      <td>11</td>\n",
       "      <td>4</td>\n",
       "      <td>2020</td>\n",
       "      <td>37</td>\n",
       "      <td>0</td>\n",
       "      <td>Afghanistan</td>\n",
       "      <td>AF</td>\n",
       "      <td>AFG</td>\n",
       "      <td>37172386.0</td>\n",
       "    </tr>\n",
       "    <tr>\n",
       "      <th>3</th>\n",
       "      <td>10/04/2020</td>\n",
       "      <td>10</td>\n",
       "      <td>4</td>\n",
       "      <td>2020</td>\n",
       "      <td>61</td>\n",
       "      <td>1</td>\n",
       "      <td>Afghanistan</td>\n",
       "      <td>AF</td>\n",
       "      <td>AFG</td>\n",
       "      <td>37172386.0</td>\n",
       "    </tr>\n",
       "    <tr>\n",
       "      <th>4</th>\n",
       "      <td>09/04/2020</td>\n",
       "      <td>9</td>\n",
       "      <td>4</td>\n",
       "      <td>2020</td>\n",
       "      <td>56</td>\n",
       "      <td>3</td>\n",
       "      <td>Afghanistan</td>\n",
       "      <td>AF</td>\n",
       "      <td>AFG</td>\n",
       "      <td>37172386.0</td>\n",
       "    </tr>\n",
       "  </tbody>\n",
       "</table>\n",
       "</div>"
      ],
      "text/plain": [
       "      dateRep  day  month  year  cases  deaths countriesAndTerritories geoId  \\\n",
       "0  13/04/2020   13      4  2020     52       0             Afghanistan    AF   \n",
       "1  12/04/2020   12      4  2020     34       3             Afghanistan    AF   \n",
       "2  11/04/2020   11      4  2020     37       0             Afghanistan    AF   \n",
       "3  10/04/2020   10      4  2020     61       1             Afghanistan    AF   \n",
       "4  09/04/2020    9      4  2020     56       3             Afghanistan    AF   \n",
       "\n",
       "  countryterritoryCode  popData2018  \n",
       "0                  AFG   37172386.0  \n",
       "1                  AFG   37172386.0  \n",
       "2                  AFG   37172386.0  \n",
       "3                  AFG   37172386.0  \n",
       "4                  AFG   37172386.0  "
      ]
     },
     "execution_count": 202,
     "metadata": {},
     "output_type": "execute_result"
    }
   ],
   "source": [
    "cases = pd.read_csv('https://opendata.ecdc.europa.eu/covid19/casedistribution/csv')\n",
    "cases.head()"
   ]
  },
  {
   "cell_type": "code",
   "execution_count": 84,
   "metadata": {},
   "outputs": [
    {
     "data": {
      "text/plain": [
       "array(['Afghanistan', 'Albania', 'Andorra', 'Algeria', 'Angola',\n",
       "       'Anguilla', 'Antigua_and_Barbuda', 'Argentina', 'Armenia', 'Aruba',\n",
       "       'Australia', 'Austria', 'Azerbaijan', 'Bahamas', 'Bahrain',\n",
       "       'Bangladesh', 'Barbados', 'Belarus', 'Belgium', 'Belize', 'Benin',\n",
       "       'Bermuda', 'Bhutan', 'Bolivia',\n",
       "       'Bonaire, Saint Eustatius and Saba', 'Bosnia_and_Herzegovina',\n",
       "       'Botswana', 'Brazil', 'British_Virgin_Islands',\n",
       "       'Brunei_Darussalam', 'Bulgaria', 'Burkina_Faso', 'Burundi',\n",
       "       'Cambodia', 'Cameroon', 'Canada', 'Cape_Verde',\n",
       "       'Cases_on_an_international_conveyance_Japan', 'Cayman_Islands',\n",
       "       'Central_African_Republic', 'Chad', 'Chile', 'China', 'Colombia',\n",
       "       'Congo', 'Costa_Rica', 'Cote_dIvoire', 'Croatia', 'Cuba',\n",
       "       'Curaçao', 'Cyprus', 'Czechia', 'Democratic_Republic_of_the_Congo',\n",
       "       'Denmark', 'Djibouti', 'Dominica', 'Dominican_Republic', 'Ecuador',\n",
       "       'Egypt', 'El_Salvador', 'Equatorial_Guinea', 'Eritrea', 'Estonia',\n",
       "       'Eswatini', 'Ethiopia', 'Falkland_Islands_(Malvinas)',\n",
       "       'Faroe_Islands', 'Fiji', 'Finland', 'France', 'French_Polynesia',\n",
       "       'Gabon', 'Gambia', 'Georgia', 'Germany', 'Ghana', 'Gibraltar',\n",
       "       'Greece', 'Greenland', 'Grenada', 'Guam', 'Guatemala', 'Guernsey',\n",
       "       'Guinea', 'Guinea_Bissau', 'Guyana', 'Haiti', 'Holy_See',\n",
       "       'Honduras', 'Hungary', 'Iceland', 'India', 'Indonesia', 'Iran',\n",
       "       'Iraq', 'Ireland', 'Isle_of_Man', 'Israel', 'Italy', 'Jamaica',\n",
       "       'Japan', 'Jersey', 'Jordan', 'Kazakhstan', 'Kenya', 'Kosovo',\n",
       "       'Kuwait', 'Kyrgyzstan', 'Laos', 'Latvia', 'Lebanon', 'Liberia',\n",
       "       'Libya', 'Liechtenstein', 'Lithuania', 'Luxembourg', 'Madagascar',\n",
       "       'Malawi', 'Malaysia', 'Maldives', 'Mali', 'Malta', 'Mauritania',\n",
       "       'Mauritius', 'Mexico', 'Moldova', 'Monaco', 'Mongolia',\n",
       "       'Montenegro', 'Montserrat', 'Morocco', 'Mozambique', 'Myanmar',\n",
       "       'Namibia', 'Nepal', 'Netherlands', 'New_Caledonia', 'New_Zealand',\n",
       "       'Nicaragua', 'Niger', 'Nigeria', 'North_Macedonia',\n",
       "       'Northern_Mariana_Islands', 'Norway', 'Oman', 'Pakistan',\n",
       "       'Palestine', 'Panama', 'Papua_New_Guinea', 'Paraguay', 'Peru',\n",
       "       'Philippines', 'Poland', 'Portugal', 'Puerto_Rico', 'Qatar',\n",
       "       'Romania', 'Russia', 'Rwanda', 'Saint_Kitts_and_Nevis',\n",
       "       'Saint_Lucia', 'Saint_Vincent_and_the_Grenadines', 'San_Marino',\n",
       "       'Saudi_Arabia', 'Senegal', 'Serbia', 'Seychelles', 'Sierra_Leone',\n",
       "       'Singapore', 'Sint_Maarten', 'Slovakia', 'Slovenia', 'Somalia',\n",
       "       'South_Africa', 'South_Korea', 'South_Sudan', 'Spain', 'Sri_Lanka',\n",
       "       'Sudan', 'Suriname', 'Sweden', 'Switzerland', 'Syria', 'Taiwan',\n",
       "       'Thailand', 'Timor_Leste', 'Togo', 'Trinidad_and_Tobago',\n",
       "       'Tunisia', 'Turkey', 'Turks_and_Caicos_islands', 'Uganda',\n",
       "       'Ukraine', 'United_Arab_Emirates', 'United_Kingdom',\n",
       "       'United_Republic_of_Tanzania', 'United_States_of_America',\n",
       "       'United_States_Virgin_Islands', 'Uruguay', 'Uzbekistan',\n",
       "       'Venezuela', 'Vietnam', 'Zambia', 'Zimbabwe'], dtype=object)"
      ]
     },
     "execution_count": 84,
     "metadata": {},
     "output_type": "execute_result"
    }
   ],
   "source": [
    "cases.countriesAndTerritories.unique()"
   ]
  },
  {
   "cell_type": "code",
   "execution_count": 203,
   "metadata": {},
   "outputs": [],
   "source": [
    "selectedcases = cases[['countriesAndTerritories','cases','deaths','dateRep']]"
   ]
  },
  {
   "cell_type": "code",
   "execution_count": 204,
   "metadata": {
    "scrolled": true
   },
   "outputs": [
    {
     "data": {
      "text/plain": [
       "array(['Bangladesh', 'Brazil', 'Burkina_Faso', 'Central_African_Republic',\n",
       "       'Colombia', 'Democratic_Republic_of_the_Congo', 'France',\n",
       "       'Germany', 'Greece', 'Iran', 'Iraq', 'Italy', 'Jordan', 'Kenya',\n",
       "       'Lebanon', 'Libya', 'Malaysia', 'Morocco', 'Nigeria', 'Pakistan',\n",
       "       'Palestine', 'Philippines', 'Portugal', 'South_Sudan', 'Spain',\n",
       "       'Syria', 'Turkey', 'Uganda', 'Ukraine',\n",
       "       'United_Republic_of_Tanzania', 'United_States_of_America',\n",
       "       'Venezuela', 'Yemen'], dtype=object)"
      ]
     },
     "execution_count": 204,
     "metadata": {},
     "output_type": "execute_result"
    }
   ],
   "source": [
    "refcases = selectedcases[selectedcases.countriesAndTerritories.isin(countries)]\n",
    "refcases.countriesAndTerritories.unique()"
   ]
  },
  {
   "cell_type": "code",
   "execution_count": 205,
   "metadata": {
    "scrolled": true
   },
   "outputs": [
    {
     "data": {
      "text/html": [
       "<div>\n",
       "<style scoped>\n",
       "    .dataframe tbody tr th:only-of-type {\n",
       "        vertical-align: middle;\n",
       "    }\n",
       "\n",
       "    .dataframe tbody tr th {\n",
       "        vertical-align: top;\n",
       "    }\n",
       "\n",
       "    .dataframe thead th {\n",
       "        text-align: right;\n",
       "    }\n",
       "</style>\n",
       "<table border=\"1\" class=\"dataframe\">\n",
       "  <thead>\n",
       "    <tr style=\"text-align: right;\">\n",
       "      <th></th>\n",
       "      <th>countriesAndTerritories</th>\n",
       "      <th>cases</th>\n",
       "      <th>deaths</th>\n",
       "      <th>dateRep</th>\n",
       "    </tr>\n",
       "  </thead>\n",
       "  <tbody>\n",
       "    <tr>\n",
       "      <th>923</th>\n",
       "      <td>Bangladesh</td>\n",
       "      <td>139</td>\n",
       "      <td>4</td>\n",
       "      <td>13/04/2020</td>\n",
       "    </tr>\n",
       "    <tr>\n",
       "      <th>924</th>\n",
       "      <td>Bangladesh</td>\n",
       "      <td>58</td>\n",
       "      <td>3</td>\n",
       "      <td>12/04/2020</td>\n",
       "    </tr>\n",
       "    <tr>\n",
       "      <th>925</th>\n",
       "      <td>Bangladesh</td>\n",
       "      <td>94</td>\n",
       "      <td>6</td>\n",
       "      <td>11/04/2020</td>\n",
       "    </tr>\n",
       "    <tr>\n",
       "      <th>926</th>\n",
       "      <td>Bangladesh</td>\n",
       "      <td>112</td>\n",
       "      <td>1</td>\n",
       "      <td>10/04/2020</td>\n",
       "    </tr>\n",
       "    <tr>\n",
       "      <th>927</th>\n",
       "      <td>Bangladesh</td>\n",
       "      <td>54</td>\n",
       "      <td>3</td>\n",
       "      <td>09/04/2020</td>\n",
       "    </tr>\n",
       "  </tbody>\n",
       "</table>\n",
       "</div>"
      ],
      "text/plain": [
       "    countriesAndTerritories  cases  deaths     dateRep\n",
       "923              Bangladesh    139       4  13/04/2020\n",
       "924              Bangladesh     58       3  12/04/2020\n",
       "925              Bangladesh     94       6  11/04/2020\n",
       "926              Bangladesh    112       1  10/04/2020\n",
       "927              Bangladesh     54       3  09/04/2020"
      ]
     },
     "execution_count": 205,
     "metadata": {},
     "output_type": "execute_result"
    }
   ],
   "source": [
    "refcases.head()"
   ]
  },
  {
   "cell_type": "code",
   "execution_count": 206,
   "metadata": {},
   "outputs": [
    {
     "data": {
      "text/plain": [
       "array(['Bangladesh', 'Brazil', 'Burkina_Faso', 'Central_African_Republic',\n",
       "       'Colombia', 'Democratic_Republic_of_the_Congo', 'France',\n",
       "       'Germany', 'Greece', 'Iran', 'Iraq', 'Italy', 'Jordan', 'Kenya',\n",
       "       'Lebanon', 'Libya', 'Malaysia', 'Morocco', 'Nigeria', 'Pakistan',\n",
       "       'Palestine', 'Philippines', 'Portugal', 'South_Sudan', 'Spain',\n",
       "       'Syria', 'Turkey', 'Uganda', 'Ukraine',\n",
       "       'United_Republic_of_Tanzania', 'United_States_of_America',\n",
       "       'Venezuela', 'Yemen'], dtype=object)"
      ]
     },
     "execution_count": 206,
     "metadata": {},
     "output_type": "execute_result"
    }
   ],
   "source": [
    "refcases.countriesAndTerritories.unique()"
   ]
  },
  {
   "cell_type": "code",
   "execution_count": 207,
   "metadata": {},
   "outputs": [
    {
     "data": {
      "text/plain": [
       "Index(['Bangladesh', 'Brazil', 'Burkina_Faso', 'Central_African_Republic',\n",
       "       'Colombia', 'Democratic_Republic_of_the_Congo', 'France', 'Germany',\n",
       "       'Greece', 'Iran', 'Iraq', 'Italy', 'Jordan', 'Kenya', 'Lebanon',\n",
       "       'Libya', 'Malaysia', 'Morocco', 'Nigeria', 'Pakistan', 'Palestine',\n",
       "       'Philippines', 'Portugal', 'South_Sudan', 'Spain', 'Syria', 'Turkey',\n",
       "       'Uganda', 'Ukraine', 'United_Republic_of_Tanzania',\n",
       "       'United_States_of_America', 'Venezuela', 'Yemen'],\n",
       "      dtype='object', name='countriesAndTerritories')"
      ]
     },
     "execution_count": 207,
     "metadata": {},
     "output_type": "execute_result"
    }
   ],
   "source": [
    "summary = refcases.groupby(['countriesAndTerritories']).sum()\n",
    "summary['date'] = date.today()\n",
    "summary.index"
   ]
  },
  {
   "cell_type": "code",
   "execution_count": 208,
   "metadata": {},
   "outputs": [],
   "source": [
    "summary.index=summary.index.str.replace('United_Republic_of_Tanzania', 'Tanzania',regex=False)\n",
    "summary.index= summary.index.str.replace('United_States_of_America', 'US',regex=False)\n",
    "summary.index=summary.index.str.replace('Central_African_Republic', 'Central African Republic',regex=False)\n",
    "summary.index= summary.index.str.replace('Burkina_Faso', 'Burkina Faso',regex=False)\n",
    "summary.index= summary.index.str.replace('Democratic_Republic_of_the_Congo','Democratic Republic of Congo',regex=False)\n",
    "\n"
   ]
  },
  {
   "cell_type": "code",
   "execution_count": 209,
   "metadata": {},
   "outputs": [],
   "source": [
    "summary.to_csv('latest_refugees_cases.csv')"
   ]
  },
  {
   "cell_type": "code",
   "execution_count": null,
   "metadata": {},
   "outputs": [],
   "source": []
  }
 ],
 "metadata": {
  "kernelspec": {
   "display_name": "Python 3",
   "language": "python",
   "name": "python3"
  },
  "language_info": {
   "codemirror_mode": {
    "name": "ipython",
    "version": 3
   },
   "file_extension": ".py",
   "mimetype": "text/x-python",
   "name": "python",
   "nbconvert_exporter": "python",
   "pygments_lexer": "ipython3",
   "version": "3.7.1"
  }
 },
 "nbformat": 4,
 "nbformat_minor": 2
}
